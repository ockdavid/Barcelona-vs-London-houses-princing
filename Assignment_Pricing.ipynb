{
 "cells": [
  {
   "cell_type": "markdown",
   "id": "6c884a27",
   "metadata": {},
   "source": [
    "## Importación de librerías y definición de funciones"
   ]
  },
  {
   "cell_type": "code",
   "execution_count": 1,
   "id": "3479bab7",
   "metadata": {},
   "outputs": [],
   "source": [
    "# importar librerías\n",
    "import pandas as pd\n",
    "import nums_from_string\n",
    "from selenium import webdriver\n",
    "from selenium.webdriver.chrome.options import Options\n",
    "from selenium.webdriver.chrome.service import Service\n",
    "from selenium.webdriver.common.by import By\n",
    "import time\n",
    "import nums_from_string\n",
    "import matplotlib.pyplot as plt\n",
    "import seaborn as sns\n",
    "sns.set_theme(style=\"whitegrid\")\n",
    "\n",
    "################# extrae los links de la página Rightmove ####################\n",
    "\n",
    "def get_links_Rightmove():\n",
    "    ser = Service(\"./chromedriver\")\n",
    "    options = Options()\n",
    "    options.headless = True\n",
    "    options.add_argument(\"--window-size=1920,1200\")\n",
    "    links = []\n",
    "    driver = webdriver.Chrome(options=options, service=ser)\n",
    "    driver.get(\"https://www.rightmove.co.uk/property-to-rent/find.html?searchType=RENT&locationIdentifier=REGION%5E87490&insId=1&radius=0.0&minPrice=&maxPrice=&minBedrooms=&maxBedrooms=&displayPropertyType=&maxDaysSinceAdded=&sortByPriceDescending=&_includeLetAgreed=on&primaryDisplayPropertyType=&secondaryDisplayPropertyType=&oldDisplayPropertyType=&oldPrimaryDisplayPropertyType=&letType=&letFurnishType=&houseFlatShare=\")\n",
    "    for i in range(3): #cada iteración son 25 links\n",
    "        apts_links = driver.find_elements(By.CLASS_NAME, \"propertyCard-details\")\n",
    "        for a in apts_links:\n",
    "            links.append(a.find_element(By.CLASS_NAME, \"propertyCard-link\").get_attribute('href'))\n",
    "        nb = driver.find_element(By.XPATH, \"//button[contains(@class, 'pagination-button pagination-direction pagination-direction--next')]\")\n",
    "        nb.click()\n",
    "        time.sleep(2)\n",
    "    df = pd.DataFrame(links)\n",
    "    df = df.rename(columns={0: 'urls'})\n",
    "    df.to_csv('urls_rightmove.csv')    # se guardan en un excel los archivos\n",
    "    driver.quit()\n",
    "    print('DONE')\n",
    "    return\n",
    "\n",
    "################# Recopila los precios de las habitaciones en London ####################\n",
    "\n",
    "def get_precios_London():\n",
    "    inicio = time.time()\n",
    "    prop_dict_list = []\n",
    "    \n",
    "    df = pd.read_csv('urls_rightmove.csv')\n",
    "    options = Options()\n",
    "    options.headless = True\n",
    "    options.add_argument(\"--window-size=1920,1200\")\n",
    "    driver = webdriver.Chrome('./chromedriver_mac64/chromedriver', options=options)\n",
    "    \n",
    "    for i in df['urls']:\n",
    "        prop_dict = {}\n",
    "        page = driver.get(i)\n",
    "        precio_class = driver.find_element(By.CLASS_NAME, '_1gfnqJ3Vtd1z40MlC0MzXu')\n",
    "        precio_span = precio_class.find_element(By.XPATH, 'span')        \n",
    "        precio_str = precio_span.text\n",
    "        precio_str = precio_str.replace('.', '').replace(',', '')\n",
    "        precio_pounds = precio_str[1:-3]    #se elimina los datos que no se necesita\n",
    "        hay_precio = 1\n",
    "        hay_tamanho = 1\n",
    "        #Se utiliza Try para no detener la ejecución\n",
    "        try:\n",
    "            # Se ejecutan las siguientes líneas de código para extraer solo los números\n",
    "            precio_euros = float(precio_pounds)*1.14  # en una de las pestañas el precio era solo letras sin nros(publicidad)\n",
    "                                                      # por eso evalúa si hay error en float()\n",
    "        except:\n",
    "            hay_precio = 0\n",
    "        try:\n",
    "            tag = driver.find_element(By.XPATH,\"//*[contains(@class,'_3vyydJK3KMwn7-s2BEXJAf')]\")\n",
    "        except:\n",
    "            hay_tamanho = 0\n",
    "        else:\n",
    "            palabra = tag.text[1:-7]            #se elimina los datos que no se necesita\n",
    "            palabra = palabra.replace(',', '')\n",
    "            if (len(palabra)>=5):\n",
    "                sep = palabra.split(\"-\")\n",
    "                palabra = sep[1]\n",
    "            # Se ejecutan las siguientes líneas de código para extraer solo los números\n",
    "            sqmeters = float(palabra)\n",
    "            precio_x_metro = precio_euros/sqmeters\n",
    "            prop_dict['London'] = precio_x_metro\n",
    "            if (hay_precio and hay_tamanho):            #si no hay datos válidos, no se guarda en el dataframe\n",
    "                prop_dict_list.append(prop_dict)         \n",
    "        time.sleep(1)\n",
    "    df = pd.DataFrame(prop_dict_list)\n",
    "    df.to_csv('Precios_London.csv')\n",
    "    driver.quit()\n",
    "    fin = time.time()\n",
    "    print('DONE')\n",
    "    print('Tiempo:',(fin-inicio)//60,'minutos y',round((fin-inicio)%60) ,'segundos')\n",
    "    return df\n",
    "\n",
    "################# extrae los links de la página Badi ####################\n",
    "\n",
    "def get_links_Badi():\n",
    "    ser = Service(\"./chromedriver\")\n",
    "    options = Options()\n",
    "    options.headless = True\n",
    "    options.add_argument(\"--window-size=1920,1200\")\n",
    "    links = []\n",
    "    driver = webdriver.Chrome(options=options, service=ser)\n",
    "    driver.get(\"https://badi.com/es/s/Barcelona--Espa%C3%B1a?bounds=41.4682974272428,2.22804492421789;41.31703848925413,2.052333262952554&center=41.3873974,2.168568&d=11.164609446567885&city=Barcelona&pid=ChIJ5TCOcRaYpBIRCmZHTz37sEQ&z=12\")\n",
    "    for i in range(2): #cada iteración son 20 links\n",
    "        enlaces = driver.find_elements(By.XPATH,\"//a[contains(@data-qa, 'room-card-link')]\")\n",
    "        for a in enlaces:\n",
    "            links.append(a.get_attribute('href')) \n",
    "        nb = driver.find_element(By.XPATH, \"//button[contains(@class, 'sc-9fxd19-1 jEzqfk')]\")\n",
    "        nb.click()\n",
    "        time.sleep(2)\n",
    "    df = pd.DataFrame(links)\n",
    "    df = df.rename(columns={0: 'urls'})\n",
    "    df.to_csv('urls_badi.csv')              # se guardan en un excel los archivos\n",
    "    driver.quit()\n",
    "    print('DONE')\n",
    "    return\n",
    "\n",
    "################# Recopila los precios de las habitaciones en Barcelona ####################\n",
    "\n",
    "def get_precios_Barcelona():\n",
    "    inicio = time.time()\n",
    "    prop_dict_list = []    \n",
    "    df = pd.read_csv('urls_badi.csv')\n",
    "    options = Options()\n",
    "    options.headless = True\n",
    "    options.add_argument(\"--window-size=1920,1200\")\n",
    "    driver = webdriver.Chrome('./chromedriver_mac64/chromedriver', options=options)\n",
    "    for i in df['urls']:\n",
    "        prop_dict = {}\n",
    "        dato_valido = 1\n",
    "        page = driver.get(i)\n",
    "        #Se utiliza Try para no detener la ejecución\n",
    "        try: \n",
    "            tamanho_html = driver.find_element(By.XPATH,\"//p[contains(@data-qa, 'section-abstract-icon-label-area')]\").text\n",
    "            precio_html = driver.find_element(By.XPATH,\"//h4[contains(@data-qa, 'room-details-current-price')]\").text\n",
    "        except:\n",
    "            dato_valido=0\n",
    "        \n",
    "         # Se ejecutan las siguientes líneas de código para extraer solo los números\n",
    "        tamanho_float = float(tamanho_html[:-2])   #se elimina los datos que no se necesita\n",
    "        precio_str = precio_html[:-4]              #se elimina los datos que no se necesita\n",
    "        precio_float = float(precio_str.replace('.', '').replace(',', '').replace('€', ''))\n",
    "        if(tamanho_float > 0):\n",
    "            precio_x_metro = precio_float/tamanho_float\n",
    "            prop_dict['Barcelona'] = precio_x_metro\n",
    "            if (dato_valido):            #si no hay datos, no se guarda en el dataframe\n",
    "                prop_dict_list.append(prop_dict)\n",
    "        time.sleep(1)\n",
    "    df = pd.DataFrame(prop_dict_list)\n",
    "    df.to_csv('Precios_Barcelona.csv')\n",
    "    driver.quit()\n",
    "    fin = time.time()\n",
    "    print('DONE')\n",
    "    print('tiempo:',(fin-inicio)//60,'minutos y',round((fin-inicio)%60) ,'segundos')\n",
    "    return df\n",
    "\n",
    "################# Plotea el promedio de precios de las ciudades ingresadas ####################\n",
    "\n",
    "def Ploting_Comparison(df_london, df_bcn):\n",
    "    df_london = pd.read_csv('Precios_London.csv',index_col = [0])\n",
    "    df_bcn = pd.read_csv('Precios_Barcelona.csv',index_col = [0])\n",
    "    cant_london = df_london.shape[0]                                     #cantidad datos london\n",
    "    cant_barcelona= df_bcn.shape[0]                                      #cantidad datos barcelona\n",
    "    average_London = df_london.London.mean()                      \n",
    "    average_Barcelona = df_bcn.Barcelona.mean()\n",
    "    Cities = ['London','Barcelona']\n",
    "    Avg_price = [round(average_London,2), round(average_Barcelona,2)]\n",
    "    df = pd.DataFrame({'Cities': Cities, 'Avg_price': Avg_price})        #se crea dataframe con datos de ambas ciudades\n",
    "    plt.title('Average of renting a room in London and Barcelona')\n",
    "    ax = sns.barplot(data = df, x=Cities, y = Avg_price)                 #se plotea los graficos\n",
    "    ax.bar_label(ax.containers[0], fmt='%.2f € / m2')\n",
    "    print(f'Para la ciudad de London se promediaron {cant_london} y para Barcelona {cant_barcelona} habitaciones')\n",
    "    return\n",
    "    "
   ]
  },
  {
   "cell_type": "markdown",
   "id": "9a0fcd36",
   "metadata": {},
   "source": [
    "## Se extraen los links "
   ]
  },
  {
   "cell_type": "code",
   "execution_count": 2,
   "id": "817414a4",
   "metadata": {},
   "outputs": [
    {
     "name": "stdout",
     "output_type": "stream",
     "text": [
      "DONE\n",
      "DONE\n"
     ]
    }
   ],
   "source": [
    "get_links_Rightmove()\n",
    "get_links_Badi()"
   ]
  },
  {
   "cell_type": "markdown",
   "id": "50a4a320",
   "metadata": {},
   "source": [
    "## Recopilación de precios de la ciudad de London"
   ]
  },
  {
   "cell_type": "code",
   "execution_count": 3,
   "id": "579710ac",
   "metadata": {},
   "outputs": [
    {
     "name": "stderr",
     "output_type": "stream",
     "text": [
      "C:\\Users\\ockda\\AppData\\Local\\Temp\\ipykernel_19780\\528116549.py:48: DeprecationWarning: executable_path has been deprecated, please pass in a Service object\n",
      "  driver = webdriver.Chrome('./chromedriver_mac64/chromedriver', options=options)\n"
     ]
    },
    {
     "name": "stdout",
     "output_type": "stream",
     "text": [
      "DONE\n",
      "Tiempo: 3.0 minutos y 3 segundos\n"
     ]
    }
   ],
   "source": [
    "London = get_precios_London()"
   ]
  },
  {
   "cell_type": "markdown",
   "id": "4227b836",
   "metadata": {},
   "source": [
    "## Recopilación de precios de la ciudad de Barcelona"
   ]
  },
  {
   "cell_type": "code",
   "execution_count": 4,
   "id": "ad6bcf72",
   "metadata": {},
   "outputs": [
    {
     "name": "stderr",
     "output_type": "stream",
     "text": [
      "C:\\Users\\ockda\\AppData\\Local\\Temp\\ipykernel_19780\\528116549.py:125: DeprecationWarning: executable_path has been deprecated, please pass in a Service object\n",
      "  driver = webdriver.Chrome('./chromedriver_mac64/chromedriver', options=options)\n"
     ]
    },
    {
     "name": "stdout",
     "output_type": "stream",
     "text": [
      "DONE\n",
      "tiempo: 2.0 minutos y 16 segundos\n"
     ]
    }
   ],
   "source": [
    "Barcelona = get_precios_Barcelona()"
   ]
  },
  {
   "cell_type": "markdown",
   "id": "040007d0",
   "metadata": {},
   "source": [
    "## Ploteo de resultados"
   ]
  },
  {
   "cell_type": "code",
   "execution_count": 5,
   "id": "66f3dbf9",
   "metadata": {},
   "outputs": [
    {
     "name": "stdout",
     "output_type": "stream",
     "text": [
      "Para la ciudad de London se promediaron 28 y para Barcelona 38 habitaciones\n"
     ]
    },
    {
     "data": {
      "image/png": "[encoded data removed]",
      "text/plain": [
       "<Figure size 640x480 with 1 Axes>"
      ]
     },
     "metadata": {},
     "output_type": "display_data"
    }
   ],
   "source": [
    "Ploting_Comparison(London, Barcelona)"
   ]
  },
  {
   "cell_type": "code",
   "execution_count": null,
   "id": "aedb1cb7",
   "metadata": {},
   "outputs": [],
   "source": []
  }
 ],
 "metadata": {
  "kernelspec": {
   "display_name": "Python 3 (ipykernel)",
   "language": "python",
   "name": "python3"
  },
  "language_info": {
   "codemirror_mode": {
    "name": "ipython",
    "version": 3
   },
   "file_extension": ".py",
   "mimetype": "text/x-python",
   "name": "python",
   "nbconvert_exporter": "python",
   "pygments_lexer": "ipython3",
   "version": "3.9.13"
  }
 },
 "nbformat": 4,
 "nbformat_minor": 5
}
