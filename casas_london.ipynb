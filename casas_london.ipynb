{
 "cells": [
  {
   "cell_type": "code",
   "execution_count": 4,
   "metadata": {},
   "outputs": [],
   "source": [
    "import pandas as pd"
   ]
  },
  {
   "cell_type": "code",
   "execution_count": 2,
   "metadata": {},
   "outputs": [],
   "source": [
    "from selenium import webdriver\n",
    "from selenium.webdriver.chrome.options import Options\n",
    "from selenium.webdriver.chrome.service import Service\n",
    "from selenium.webdriver.common.by import By\n",
    "import time\n",
    "ser = Service(\"./chromedriver\")\n",
    "options = Options()\n",
    "options.headless = True\n",
    "options.add_argument(\"--window-size=1920,1200\")\n",
    "def get_links():\n",
    "    links = []\n",
    "    driver = webdriver.Chrome(options=options, service=ser)\n",
    "    driver.get(\"https://www.rightmove.co.uk/property-to-rent/find.html?searchType=RENT&locationIdentifier=REGION%5E87490&insId=1&radius=0.0&minPrice=&maxPrice=&minBedrooms=&maxBedrooms=&displayPropertyType=&maxDaysSinceAdded=&sortByPriceDescending=&_includeLetAgreed=on&primaryDisplayPropertyType=&secondaryDisplayPropertyType=&oldDisplayPropertyType=&oldPrimaryDisplayPropertyType=&letType=&letFurnishType=&houseFlatShare=\")\n",
    "    for i in range(4):\n",
    "        apts_links = driver.find_elements(By.CLASS_NAME, \"propertyCard-details\")\n",
    "        for a in apts_links:\n",
    "            links.append(a.find_element(By.CLASS_NAME, \"propertyCard-link\").get_attribute('href'))\n",
    "        nb = driver.find_element(By.XPATH, \"//button[contains(@class, 'pagination-button pagination-direction pagination-direction--next')]\")\n",
    "        nb.click()\n",
    "        time.sleep(2)\n",
    "    df = pd.DataFrame(links)\n",
    "    df = df.rename(columns={0: 'urls'})\n",
    "    df.to_csv('urls_t.csv')\n",
    "    driver.quit()\n",
    "    return\n",
    "#print('Click')\n",
    "#nb.click()\n",
    "#print('Clicked')\n",
    "#time.sleep(2)\n",
    "#apts_links = driver.find_elements(By.CLASS_NAME, \"propertyCard-link\")\n",
    "#for a in apts_links:\n",
    "#    print(a.get_attribute('href'))\n",
    "#driver.quit()"
   ]
  },
  {
   "cell_type": "code",
   "execution_count": 5,
   "metadata": {},
   "outputs": [],
   "source": [
    "get_links()"
   ]
  },
  {
   "cell_type": "code",
   "execution_count": 27,
   "metadata": {},
   "outputs": [],
   "source": [
    "def get_addresses():\n",
    "    prop_dict_list = []\n",
    "    \n",
    "    df = pd.read_csv('urls_t.csv')\n",
    "    options = Options()\n",
    "    options.headless = True\n",
    "    options.add_argument(\"--window-size=1920,1200\")\n",
    "    driver = webdriver.Chrome('./chromedriver_mac64/chromedriver', options=options)\n",
    "    j = 0\n",
    "    for i in df['urls']:\n",
    "        prop_dict = {}\n",
    "        print(j)\n",
    "        print(i)\n",
    "        page = driver.get(i)\n",
    "        prop_dict['address'] = driver.find_elements(By.CLASS_NAME, '_3vyydJK3KMwn7-s2BEXJAf')\n",
    "        prop_dict['prueba'] = dr\n",
    "        prop_dict['price_per_week'] = driver.find_element(By.XPATH, '//div[contains(@class, \"_3OGW_s5TH6aUqi4uHum5Gy\")]').text\n",
    "        #div_pcm = driver.find_element(By.XPATH, '//div[contains(@class, \"_1gfnqJ3Vtd1z40MlC0MzXu\")]')\n",
    "        #prop_dict['price_per_month'] = div_pcm.find_element(By.TAG_NAME, 'span').text\n",
    "        prop_dict['Price_month'] =  driver.find_element(By.XPATH,\"// div[contains(@class,'_1gfnqJ3Vtd1z40MlC0MzXu')]/span\").text\n",
    "        \n",
    "        prop_dict_list.append(prop_dict)   \n",
    "        time.sleep(1)\n",
    "        if j >= 2:\n",
    "            #pass\n",
    "            break\n",
    "            j = j + 1\n",
    "        \n",
    "    df = pd.DataFrame(prop_dict_list)\n",
    "    #df = df.rename(columns={0: 'addresses'})\n",
    "    print(df)\n",
    "    driver.quit()\n",
    "    return df"
   ]
  },
  {
   "cell_type": "code",
   "execution_count": 28,
   "metadata": {},
   "outputs": [
    {
     "name": "stderr",
     "output_type": "stream",
     "text": [
      "C:\\Users\\ockda\\AppData\\Local\\Temp\\ipykernel_11408\\3320133655.py:8: DeprecationWarning: executable_path has been deprecated, please pass in a Service object\n",
      "  driver = webdriver.Chrome('./chromedriver_mac64/chromedriver', options=options)\n"
     ]
    },
    {
     "name": "stdout",
     "output_type": "stream",
     "text": [
      "0\n",
      "https://www.rightmove.co.uk/properties/92009933#/?channel=RES_LET\n",
      "0\n",
      "https://www.rightmove.co.uk/properties/130301531#/?channel=RES_LET\n",
      "0\n",
      "https://www.rightmove.co.uk/properties/130795592#/?channel=RES_LET\n",
      "0\n",
      "https://www.rightmove.co.uk/properties/92010041#/?channel=RES_LET\n",
      "0\n",
      "https://www.rightmove.co.uk/properties/130205171#/?channel=RES_LET\n",
      "                                             address price_per_week  \\\n",
      "0  [<selenium.webdriver.remote.webelement.WebElem...      Apartment   \n",
      "1                                                 []      Apartment   \n",
      "2                                                 []           Flat   \n",
      "3  [<selenium.webdriver.remote.webelement.WebElem...      Apartment   \n",
      "4                                                 []           Flat   \n",
      "\n",
      "  Price_month  \n",
      "0  £2,816 pcm  \n",
      "1  £2,100 pcm  \n",
      "2  £1,517 pcm  \n",
      "3  £3,878 pcm  \n",
      "4  £2,200 pcm  \n"
     ]
    },
    {
     "data": {
      "text/html": [
       "<div>\n",
       "<style scoped>\n",
       "    .dataframe tbody tr th:only-of-type {\n",
       "        vertical-align: middle;\n",
       "    }\n",
       "\n",
       "    .dataframe tbody tr th {\n",
       "        vertical-align: top;\n",
       "    }\n",
       "\n",
       "    .dataframe thead th {\n",
       "        text-align: right;\n",
       "    }\n",
       "</style>\n",
       "<table border=\"1\" class=\"dataframe\">\n",
       "  <thead>\n",
       "    <tr style=\"text-align: right;\">\n",
       "      <th></th>\n",
       "      <th>address</th>\n",
       "      <th>price_per_week</th>\n",
       "      <th>Price_month</th>\n",
       "    </tr>\n",
       "  </thead>\n",
       "  <tbody>\n",
       "    <tr>\n",
       "      <th>0</th>\n",
       "      <td>[&lt;selenium.webdriver.remote.webelement.WebElem...</td>\n",
       "      <td>Apartment</td>\n",
       "      <td>£2,816 pcm</td>\n",
       "    </tr>\n",
       "    <tr>\n",
       "      <th>1</th>\n",
       "      <td>[]</td>\n",
       "      <td>Apartment</td>\n",
       "      <td>£2,100 pcm</td>\n",
       "    </tr>\n",
       "    <tr>\n",
       "      <th>2</th>\n",
       "      <td>[]</td>\n",
       "      <td>Flat</td>\n",
       "      <td>£1,517 pcm</td>\n",
       "    </tr>\n",
       "    <tr>\n",
       "      <th>3</th>\n",
       "      <td>[&lt;selenium.webdriver.remote.webelement.WebElem...</td>\n",
       "      <td>Apartment</td>\n",
       "      <td>£3,878 pcm</td>\n",
       "    </tr>\n",
       "    <tr>\n",
       "      <th>4</th>\n",
       "      <td>[]</td>\n",
       "      <td>Flat</td>\n",
       "      <td>£2,200 pcm</td>\n",
       "    </tr>\n",
       "  </tbody>\n",
       "</table>\n",
       "</div>"
      ],
      "text/plain": [
       "                                             address price_per_week  \\\n",
       "0  [<selenium.webdriver.remote.webelement.WebElem...      Apartment   \n",
       "1                                                 []      Apartment   \n",
       "2                                                 []           Flat   \n",
       "3  [<selenium.webdriver.remote.webelement.WebElem...      Apartment   \n",
       "4                                                 []           Flat   \n",
       "\n",
       "  Price_month  \n",
       "0  £2,816 pcm  \n",
       "1  £2,100 pcm  \n",
       "2  £1,517 pcm  \n",
       "3  £3,878 pcm  \n",
       "4  £2,200 pcm  "
      ]
     },
     "execution_count": 28,
     "metadata": {},
     "output_type": "execute_result"
    }
   ],
   "source": [
    "get_addresses()"
   ]
  },
  {
   "cell_type": "code",
   "execution_count": null,
   "metadata": {},
   "outputs": [],
   "source": []
  }
 ],
 "metadata": {
  "kernelspec": {
   "display_name": "base",
   "language": "python",
   "name": "python3"
  },
  "language_info": {
   "codemirror_mode": {
    "name": "ipython",
    "version": 3
   },
   "file_extension": ".py",
   "mimetype": "text/x-python",
   "name": "python",
   "nbconvert_exporter": "python",
   "pygments_lexer": "ipython3",
   "version": "3.9.13"
  },
  "orig_nbformat": 4,
  "vscode": {
   "interpreter": {
    "hash": "a1113af81ac0134da3eb882521df24de3cbad007d201fc9dac1e40d0f052bca1"
   }
  }
 },
 "nbformat": 4,
 "nbformat_minor": 2
}
