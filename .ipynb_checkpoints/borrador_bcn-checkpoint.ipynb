{
 "cells": [
  {
   "cell_type": "code",
   "execution_count": 23,
   "id": "c41f3f3f",
   "metadata": {},
   "outputs": [
    {
     "name": "stdout",
     "output_type": "stream",
     "text": [
      "Collecting more-itertools\n",
      "  Using cached more_itertools-9.0.0-py3-none-any.whl (52 kB)\n",
      "Installing collected packages: more-itertools\n",
      "Successfully installed more-itertools-9.0.0\n"
     ]
    }
   ],
   "source": [
    "!pip install more-itertools"
   ]
  },
  {
   "cell_type": "code",
   "execution_count": 1,
   "id": "f8402d71",
   "metadata": {},
   "outputs": [],
   "source": [
    "import pandas as pd\n",
    "import nums_from_string"
   ]
  },
  {
   "cell_type": "code",
   "execution_count": null,
   "id": "4d6e57e8",
   "metadata": {},
   "outputs": [],
   "source": [
    "from selenium import webdriver\n",
    "from selenium.webdriver.chrome.options import Options\n",
    "from selenium.webdriver.chrome.service import Service\n",
    "from selenium.webdriver.common.by import By\n",
    "import time\n",
    "import nums_from_string\n",
    "\n",
    "ser = Service(\"./chromedriver\")\n",
    "options = Options()\n",
    "options.headless = True\n",
    "options.add_argument(\"--window-size=1920,1200\")\n",
    "def get_links():\n",
    "    links = []\n",
    "    driver = webdriver.Chrome(options=options, service=ser)\n",
    "    driver.get(\"https://www.idealista.com/alquiler-viviendas/barcelona/eixample/l-antiga-esquerra-de-l-eixample/\")\n",
    "    for i in range(1): #cada uno son 25 links, antes era 8\n",
    "        apts_links = driver.find_elements(By.CLASS_NAME, \"item  item_contains_branding item-multimedia-container\")\n",
    "        for a in apts_links:\n",
    "            links.append(a.find_element(By.CLASS_NAME, \"item-link\").get_attribute('href'))\n",
    "        nb = driver.find_element(By.XPATH, \"//a[contains(@class, 'icon-arrow-right-after')]\")\n",
    "        nb.click()\n",
    "        time.sleep(2)\n",
    "    df = pd.DataFrame(links)\n",
    "    df = df.rename(columns={0: 'urls'})\n",
    "    df.to_csv('urls_t.csv')\n",
    "    driver.quit()\n",
    "    print('DOOONEEEE')\n",
    "    return"
   ]
  },
  {
   "cell_type": "code",
   "execution_count": null,
   "id": "100ab997",
   "metadata": {},
   "outputs": [],
   "source": [
    "from selenium import webdriver\n",
    "from selenium.webdriver.chrome.options import Options\n",
    "from selenium.webdriver.chrome.service import Service\n",
    "from selenium.webdriver.common.by import By\n",
    "import time\n",
    "import nums_from_string\n",
    "\n",
    "ser = Service(\"./chromedriver\")\n",
    "options = Options()\n",
    "options.headless = True\n",
    "# options.add_argument(\"--window-size=1920,1200\")\n",
    "links = []\n",
    "driver = webdriver.Chrome(options=options, service=ser)\n",
    "driver.get(\"https://www.idealista.com/alquiler-viviendas/barcelona/eixample/l-antiga-esquerra-de-l-eixample/\")\n",
    "\n",
    "# apts_links = driver.find_elements(By.CLASS_NAME, \"item  item_contains_branding item-multimedia-container\")\n",
    "apts_links = driver.find_elements(By.XPATH, \"//div[contains(@class, 'listing-top')]\")\n",
    "\n",
    "print(apts_links)\n",
    "print(type(apts_links))"
   ]
  },
  {
   "cell_type": "code",
   "execution_count": null,
   "id": "e3a5e4cf",
   "metadata": {},
   "outputs": [],
   "source": []
  },
  {
   "cell_type": "code",
   "execution_count": 29,
   "id": "b794a0cd",
   "metadata": {},
   "outputs": [],
   "source": [
    "# !pip install selenium undetected-chromedriver"
   ]
  },
  {
   "cell_type": "code",
   "execution_count": 41,
   "id": "bd784fc7",
   "metadata": {},
   "outputs": [
    {
     "name": "stderr",
     "output_type": "stream",
     "text": [
      "C:\\Users\\ockda\\AppData\\Local\\Temp\\ipykernel_2084\\3644287795.py:14: DeprecationWarning: executable_path has been deprecated, please pass in a Service object\n",
      "  driver = webdriver.Chrome('./chromedriver', chrome_options=options)\n",
      "C:\\Users\\ockda\\AppData\\Local\\Temp\\ipykernel_2084\\3644287795.py:14: DeprecationWarning: use options instead of chrome_options\n",
      "  driver = webdriver.Chrome('./chromedriver', chrome_options=options)\n"
     ]
    },
    {
     "name": "stdout",
     "output_type": "stream",
     "text": [
      "[]\n",
      "<class 'list'>\n"
     ]
    }
   ],
   "source": [
    "from selenium import webdriver\n",
    "from selenium.webdriver.common.proxy import Proxy, ProxyType\n",
    "\n",
    "options = webdriver.ChromeOptions()\n",
    "\n",
    "proxy = Proxy()\n",
    "proxy.proxyType = ProxyType.MANUAL\n",
    "proxy.autodetect = False\n",
    "proxy.httpProxy = proxy.sslProxy = proxy.socksProxy = \"127.0.0.1:9000\"\n",
    "options.Proxy = proxy\n",
    "options.add_argument(\"ignore-certificate-errors\")\n",
    "\n",
    "\n",
    "driver = webdriver.Chrome('./chromedriver', chrome_options=options) \n",
    "links = []\n",
    "driver = webdriver.Chrome(options=options, service=ser)\n",
    "driver.get(\"https://www.idealista.com/alquiler-viviendas/barcelona/eixample/l-antiga-esquerra-de-l-eixample/\")\n",
    "\n",
    "# apts_links = driver.find_elements(By.CLASS_NAME, \"item  item_contains_branding item-multimedia-container\")\n",
    "apts_links = driver.find_elements(By.XPATH, \"//div[contains(@class, 'listing-top')]\")\n",
    "\n",
    "print(apts_links)\n",
    "print(type(apts_links))"
   ]
  },
  {
   "cell_type": "code",
   "execution_count": null,
   "id": "5606ec14",
   "metadata": {},
   "outputs": [],
   "source": [
    "from selenium import webdriver\n",
    "from selenium.webdriver.common.by import By\n",
    "from selenium.webdriver.chrome.options import Options\n",
    "\n",
    "import time\n",
    "import requests\n",
    "from bs4 import BeautifulSoup\n",
    "\n",
    "link = 'https://www.idealista.com/alquiler-viviendas/barcelona/eixample/l-antiga-esquerra-de-l-eixample/'\n",
    "\n",
    "def filter_proxies():   \n",
    "    response = requests.get('https://www.sslproxies.org/')\n",
    "    soup = BeautifulSoup(response.text,\"html.parser\")\n",
    "    proxies = []\n",
    "    for item in soup.select(\"table.table tbody tr\"):\n",
    "        if not item.select_one(\"td\"):break\n",
    "        ip = item.select_one(\"td\").text\n",
    "        port = item.select_one(\"td:nth-of-type(2)\").text\n",
    "        proxies.append(f\"{ip}:{port}\")\n",
    "    return proxies\n",
    "\n",
    "\n",
    "def create_proxy_driver(PROXY):\n",
    "    options = Options()\n",
    "    options.add_argument(\"--headless\")\n",
    "    options.add_argument(f'--proxy-server={PROXY}')\n",
    "    driver = webdriver.Chrome(options=options)\n",
    "    return driver\n",
    "\n",
    "\n",
    "def get_content(ALL_PROXIES,driver):\n",
    "    while True:\n",
    "        try:\n",
    "            driver.get(link)\n",
    "            title = driver.find_element(By.CSS_SELECTOR,\"h3.s-post-summary--content-title > a\").text\n",
    "            if title:\n",
    "                driver.quit()\n",
    "                return title\n",
    "        except Exception as e:\n",
    "            driver.quit()\n",
    "            if not ALL_PROXIES:\n",
    "                print(\"Proxies used up (%s)\" % len(ALL_PROXIES))\n",
    "                ALL_PROXIES = filter_proxies()\n",
    "\n",
    "            new_proxy = ALL_PROXIES.pop()\n",
    "            driver = create_proxy_driver(new_proxy)\n",
    "            print(\"proxy being used: %s\" % new_proxy)\n",
    "            time.sleep(1)\n",
    "\n",
    "\n",
    "if __name__ == '__main__':\n",
    "    ALL_PROXIES = filter_proxies()\n",
    "    new_proxy = ALL_PROXIES.pop()\n",
    "    driver = create_proxy_driver(new_proxy)\n",
    "    \n",
    "    ser = Service(\"./chromedriver\")\n",
    "    options = Options()\n",
    "    options.headless = True\n",
    "    options.add_argument(\"--window-size=1920,1200\")\n",
    "    links = []\n",
    "    driver = webdriver.Chrome(options=options, service=ser)\n",
    "    driver.get(\"https://www.idealista.com/alquiler-viviendas/barcelona/eixample/l-antiga-esquerra-de-l-eixample/\")\n",
    "\n",
    "    # apts_links = driver.find_elements(By.CLASS_NAME, \"item  item_contains_branding item-multimedia-container\")\n",
    "    apts_links = driver.find_elements(By.XPATH, \"//div[contains(@class, 'listing-top')]\")\n",
    "\n",
    "    print(apts_links)\n",
    "    print(type(apts_links))\n",
    "    print(get_content(ALL_PROXIES,driver))\n",
    "    \n"
   ]
  },
  {
   "cell_type": "code",
   "execution_count": null,
   "id": "f766c423",
   "metadata": {},
   "outputs": [],
   "source": []
  }
 ],
 "metadata": {
  "kernelspec": {
   "display_name": "Python 3 (ipykernel)",
   "language": "python",
   "name": "python3"
  },
  "language_info": {
   "codemirror_mode": {
    "name": "ipython",
    "version": 3
   },
   "file_extension": ".py",
   "mimetype": "text/x-python",
   "name": "python",
   "nbconvert_exporter": "python",
   "pygments_lexer": "ipython3",
   "version": "3.9.13"
  }
 },
 "nbformat": 4,
 "nbformat_minor": 5
}
