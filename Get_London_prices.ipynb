{
 "cells": [
  {
   "cell_type": "code",
   "execution_count": 26,
   "id": "0f7ec169",
   "metadata": {},
   "outputs": [],
   "source": [
    "# importar librerías\n",
    "import pandas as pd\n",
    "import nums_from_string\n",
    "from selenium import webdriver\n",
    "from selenium.webdriver.chrome.options import Options\n",
    "from selenium.webdriver.chrome.service import Service\n",
    "from selenium.webdriver.common.by import By\n",
    "import time\n",
    "import nums_from_string\n",
    "\n",
    "def get_links():\n",
    "    ser = Service(\"./chromedriver\")\n",
    "    options = Options()\n",
    "    options.headless = True\n",
    "    options.add_argument(\"--window-size=1920,1200\")\n",
    "    links = []\n",
    "    driver = webdriver.Chrome(options=options, service=ser)\n",
    "    driver.get(\"https://www.rightmove.co.uk/property-to-rent/find.html?searchType=RENT&locationIdentifier=REGION%5E87490&insId=1&radius=0.0&minPrice=&maxPrice=&minBedrooms=&maxBedrooms=&displayPropertyType=&maxDaysSinceAdded=&sortByPriceDescending=&_includeLetAgreed=on&primaryDisplayPropertyType=&secondaryDisplayPropertyType=&oldDisplayPropertyType=&oldPrimaryDisplayPropertyType=&letType=&letFurnishType=&houseFlatShare=\")\n",
    "    for i in range(3): #cada uno son 25 links, antes era 8\n",
    "        apts_links = driver.find_elements(By.CLASS_NAME, \"propertyCard-details\")\n",
    "        for a in apts_links:\n",
    "            links.append(a.find_element(By.CLASS_NAME, \"propertyCard-link\").get_attribute('href'))\n",
    "        nb = driver.find_element(By.XPATH, \"//button[contains(@class, 'pagination-button pagination-direction pagination-direction--next')]\")\n",
    "        nb.click()\n",
    "        time.sleep(2)\n",
    "    df = pd.DataFrame(links)\n",
    "    df = df.rename(columns={0: 'urls'})\n",
    "    df.to_csv('urls_rightmove.csv')\n",
    "    driver.quit()\n",
    "    print('DONE')\n",
    "    return\n",
    "\n",
    "def get_precios_London():\n",
    "    inicio = time.time()\n",
    "    prop_dict_list = []\n",
    "    \n",
    "    df = pd.read_csv('urls_rightmove.csv')\n",
    "    options = Options()\n",
    "    options.headless = True\n",
    "    options.add_argument(\"--window-size=1920,1200\")\n",
    "    driver = webdriver.Chrome('./chromedriver_mac64/chromedriver', options=options)\n",
    "    \n",
    "    for i in df['urls']:\n",
    "#         print(i)\n",
    "        prop_dict = {}\n",
    "        page = driver.get(i)\n",
    "        precio_class = driver.find_element(By.CLASS_NAME, '_1gfnqJ3Vtd1z40MlC0MzXu')\n",
    "        precio_span = precio_class.find_element(By.XPATH, 'span')        \n",
    "        precio_str = precio_span.text\n",
    "        precio_str = precio_str.replace('.', '').replace(',', '')\n",
    "        precio_pounds = precio_str[1:-3]\n",
    "        hay_precio = 1\n",
    "        hay_tamanho = 1\n",
    "        try:\n",
    "            precio_euros = float(precio_pounds)*1.14  # en una de las pestañas el precio era solo letras sin nros(publicidad)\n",
    "                                                      # por eso evalúa si hay error en float()\n",
    "        except:\n",
    "            hay_precio = 0\n",
    "        try:\n",
    "            tag = driver.find_element(By.XPATH,\"//*[contains(@class,'_3vyydJK3KMwn7-s2BEXJAf')]\")\n",
    "        except:\n",
    "            hay_tamanho = 0\n",
    "        else:\n",
    "            palabra = tag.text[1:-7]\n",
    "            palabra = palabra.replace(',', '')\n",
    "            if (len(palabra)>=5):\n",
    "                sep = palabra.split(\"-\")\n",
    "                palabra = sep[1]\n",
    "            sqmeters = float(palabra)\n",
    "            precio_x_metro = precio_euros/sqmeters\n",
    "            prop_dict['London'] = precio_x_metro\n",
    "            if (hay_precio and hay_tamanho):\n",
    "                prop_dict_list.append(prop_dict)\n",
    "        time.sleep(1)\n",
    "    df = pd.DataFrame(prop_dict_list)\n",
    "    df.to_csv('Precios_London.csv')\n",
    "    driver.quit()\n",
    "    fin = time.time()\n",
    "    print('DONE')\n",
    "    print('Tiempo:',(fin-inicio)//60,'minutos y',round((fin-inicio)%60) ,'segundos')\n",
    "    return df"
   ]
  },
  {
   "cell_type": "code",
   "execution_count": 19,
   "id": "bb9c556c",
   "metadata": {},
   "outputs": [
    {
     "name": "stdout",
     "output_type": "stream",
     "text": [
      "DONE\n"
     ]
    }
   ],
   "source": [
    "get_links()"
   ]
  },
  {
   "cell_type": "code",
   "execution_count": 25,
   "id": "65d2b2d3",
   "metadata": {},
   "outputs": [],
   "source": [
    "get_precios_London()"
   ]
  },
  {
   "cell_type": "code",
   "execution_count": null,
   "id": "0f4593b5",
   "metadata": {},
   "outputs": [],
   "source": []
  }
 ],
 "metadata": {
  "kernelspec": {
   "display_name": "Python 3 (ipykernel)",
   "language": "python",
   "name": "python3"
  },
  "language_info": {
   "codemirror_mode": {
    "name": "ipython",
    "version": 3
   },
   "file_extension": ".py",
   "mimetype": "text/x-python",
   "name": "python",
   "nbconvert_exporter": "python",
   "pygments_lexer": "ipython3",
   "version": "3.9.13"
  }
 },
 "nbformat": 4,
 "nbformat_minor": 5
}
