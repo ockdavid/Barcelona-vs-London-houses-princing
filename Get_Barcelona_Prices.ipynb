{
 "cells": [
  {
   "cell_type": "code",
   "execution_count": 15,
   "id": "871838d0",
   "metadata": {},
   "outputs": [],
   "source": [
    "import pandas as pd\n",
    "import nums_from_string\n",
    "from selenium import webdriver\n",
    "from selenium.webdriver.chrome.options import Options\n",
    "from selenium.webdriver.chrome.service import Service\n",
    "from selenium.webdriver.common.by import By\n",
    "import time\n",
    "import nums_from_string\n",
    "\n",
    "def get_links():\n",
    "    ser = Service(\"./chromedriver\")\n",
    "    options = Options()\n",
    "    options.headless = True\n",
    "    options.add_argument(\"--window-size=1920,1200\")\n",
    "    links = []\n",
    "    driver = webdriver.Chrome(options=options, service=ser)\n",
    "    driver.get(\"https://badi.com/es/s/Barcelona--Espa%C3%B1a?bounds=41.4682974272428,2.22804492421789;41.31703848925413,2.052333262952554&center=41.3873974,2.168568&d=11.164609446567885&city=Barcelona&pid=ChIJ5TCOcRaYpBIRCmZHTz37sEQ&z=12\")\n",
    "    for i in range(2): #cada uno son 20 links\n",
    "        enlaces = driver.find_elements(By.XPATH,\"//a[contains(@data-qa, 'room-card-link')]\")\n",
    "        for a in enlaces:\n",
    "            links.append(a.get_attribute('href')) \n",
    "        nb = driver.find_element(By.XPATH, \"//button[contains(@class, 'sc-9fxd19-1 jEzqfk')]\")\n",
    "        nb.click()\n",
    "        time.sleep(2)\n",
    "    df = pd.DataFrame(links)\n",
    "    df = df.rename(columns={0: 'urls'})\n",
    "    df.to_csv('urls_badi.csv')\n",
    "    driver.quit()\n",
    "    print('DONE')\n",
    "    return\n",
    "\n",
    "def get_precios_Barcelona():\n",
    "    inicio = time.time()\n",
    "    prop_dict_list = []    \n",
    "    df = pd.read_csv('urls_badi.csv')\n",
    "    options = Options()\n",
    "    options.headless = True\n",
    "    options.add_argument(\"--window-size=1920,1200\")\n",
    "    driver = webdriver.Chrome('./chromedriver_mac64/chromedriver', options=options)\n",
    "    for i in df['urls']:\n",
    "        print(i)\n",
    "        prop_dict = {}\n",
    "        dato_valido = 1\n",
    "        page = driver.get(i)\n",
    "\n",
    "        try: \n",
    "            tamanho_html = driver.find_element(By.XPATH,\"//p[contains(@data-qa, 'section-abstract-icon-label-area')]\").text\n",
    "            precio_html = driver.find_element(By.XPATH,\"//h4[contains(@data-qa, 'room-details-current-price')]\").text\n",
    "        except:\n",
    "            dato_valido=0\n",
    "        \n",
    "        tamanho_float = float(tamanho_html[:-2])\n",
    "        precio_str = precio_html[:-4]\n",
    "        precio_float = float(precio_str.replace('.', '').replace(',', '').replace('€', ''))\n",
    "        if(tamanho_float > 0):\n",
    "            precio_x_metro = precio_float/tamanho_float\n",
    "            prop_dict['Barcelona'] = precio_x_metro\n",
    "            if (dato_valido):\n",
    "                prop_dict_list.append(prop_dict)\n",
    "        time.sleep(1)\n",
    "    df = pd.DataFrame(prop_dict_list)\n",
    "    df.to_csv('Precios_Barcelona.csv')\n",
    "    driver.quit()\n",
    "    fin = time.time()\n",
    "    print('DONE')\n",
    "    print('tiempo:',(fin-inicio)//60,'minutos y',round((fin-inicio)%60) ,'segundos')\n",
    "    return df"
   ]
  },
  {
   "cell_type": "code",
   "execution_count": 5,
   "id": "65a2dd4a",
   "metadata": {},
   "outputs": [
    {
     "name": "stdout",
     "output_type": "stream",
     "text": [
      "DONE\n"
     ]
    }
   ],
   "source": [
    "get_links()"
   ]
  },
  {
   "cell_type": "code",
   "execution_count": 13,
   "id": "2fe8e539",
   "metadata": {},
   "outputs": [],
   "source": [
    "get_precios_Barcelona()"
   ]
  },
  {
   "cell_type": "code",
   "execution_count": null,
   "id": "8619a1b6",
   "metadata": {},
   "outputs": [],
   "source": []
  }
 ],
 "metadata": {
  "kernelspec": {
   "display_name": "Python 3 (ipykernel)",
   "language": "python",
   "name": "python3"
  },
  "language_info": {
   "codemirror_mode": {
    "name": "ipython",
    "version": 3
   },
   "file_extension": ".py",
   "mimetype": "text/x-python",
   "name": "python",
   "nbconvert_exporter": "python",
   "pygments_lexer": "ipython3",
   "version": "3.9.13"
  }
 },
 "nbformat": 4,
 "nbformat_minor": 5
}
