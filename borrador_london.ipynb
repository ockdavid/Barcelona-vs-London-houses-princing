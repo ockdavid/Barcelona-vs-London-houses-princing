{
 "cells": [
  {
   "cell_type": "code",
   "execution_count": 73,
   "metadata": {},
   "outputs": [],
   "source": [
    "import pandas as pd\n",
    "import nums_from_string"
   ]
  },
  {
   "cell_type": "code",
   "execution_count": 121,
   "metadata": {},
   "outputs": [],
   "source": [
    "from selenium import webdriver\n",
    "from selenium.webdriver.chrome.options import Options\n",
    "from selenium.webdriver.chrome.service import Service\n",
    "from selenium.webdriver.common.by import By\n",
    "import time\n",
    "import nums_from_string\n",
    "\n",
    "ser = Service(\"./chromedriver\")\n",
    "options = Options()\n",
    "options.headless = True\n",
    "options.add_argument(\"--window-size=1920,1200\")\n",
    "def get_links():\n",
    "    links = []\n",
    "    driver = webdriver.Chrome(options=options, service=ser)\n",
    "    driver.get(\"https://www.rightmove.co.uk/property-to-rent/find.html?searchType=RENT&locationIdentifier=REGION%5E87490&insId=1&radius=0.0&minPrice=&maxPrice=&minBedrooms=&maxBedrooms=&displayPropertyType=&maxDaysSinceAdded=&sortByPriceDescending=&_includeLetAgreed=on&primaryDisplayPropertyType=&secondaryDisplayPropertyType=&oldDisplayPropertyType=&oldPrimaryDisplayPropertyType=&letType=&letFurnishType=&houseFlatShare=\")\n",
    "    for i in range(8):\n",
    "        apts_links = driver.find_elements(By.CLASS_NAME, \"propertyCard-details\")\n",
    "        for a in apts_links:\n",
    "            links.append(a.find_element(By.CLASS_NAME, \"propertyCard-link\").get_attribute('href'))\n",
    "        nb = driver.find_element(By.XPATH, \"//button[contains(@class, 'pagination-button pagination-direction pagination-direction--next')]\")\n",
    "        nb.click()\n",
    "        time.sleep(2)\n",
    "    df = pd.DataFrame(links)\n",
    "    df = df.rename(columns={0: 'urls'})\n",
    "    df.to_csv('urls_t.csv')\n",
    "    driver.quit()\n",
    "    print('DOOONEEEE')\n",
    "    return"
   ]
  },
  {
   "cell_type": "code",
   "execution_count": 120,
   "metadata": {},
   "outputs": [],
   "source": [
    "get_links()"
   ]
  },
  {
   "cell_type": "code",
   "execution_count": 126,
   "metadata": {},
   "outputs": [],
   "source": [
    "def get_addresses():\n",
    "    inicio = time.time()\n",
    "    prop_dict_list = []\n",
    "    \n",
    "    df = pd.read_csv('urls_t.csv')\n",
    "    options = Options()\n",
    "    options.headless = True\n",
    "    options.add_argument(\"--window-size=1920,1200\")\n",
    "    driver = webdriver.Chrome('./chromedriver_mac64/chromedriver', options=options)\n",
    "    for i in df['urls']:\n",
    "        prop_dict = {}\n",
    "#         print(i)\n",
    "        page = driver.get(i)\n",
    "        try:\n",
    "            tag = driver.find_element(By.XPATH,\"//*[contains(@class,'_3vyydJK3KMwn7-s2BEXJAf')]\")\n",
    "        except:\n",
    "            j=0\n",
    "        else:\n",
    "            prop_dict['Precio/m'] = tag.text\n",
    "            prop_dict_list.append(prop_dict)\n",
    "        time.sleep(1)\n",
    "    df = pd.DataFrame(prop_dict_list)\n",
    "    #df = df.rename(columns={0: 'addresses'})\n",
    "    print(df)\n",
    "    driver.quit()\n",
    "    fin = time.time()\n",
    "    print(fin-inicio)\n",
    "    return df"
   ]
  },
  {
   "cell_type": "code",
   "execution_count": null,
   "metadata": {
    "scrolled": false
   },
   "outputs": [
    {
     "name": "stderr",
     "output_type": "stream",
     "text": [
      "C:\\Users\\ockda\\AppData\\Local\\Temp\\ipykernel_17328\\2068334686.py:9: DeprecationWarning: executable_path has been deprecated, please pass in a Service object\n",
      "  driver = webdriver.Chrome('./chromedriver_mac64/chromedriver', options=options)\n"
     ]
    }
   ],
   "source": [
    "get_addresses()"
   ]
  },
  {
   "cell_type": "code",
   "execution_count": 97,
   "metadata": {},
   "outputs": [
    {
     "name": "stderr",
     "output_type": "stream",
     "text": [
      "C:\\Users\\ockda\\AppData\\Local\\Temp\\ipykernel_17328\\1792781633.py:5: DeprecationWarning: executable_path has been deprecated, please pass in a Service object\n",
      "  driver = webdriver.Chrome('./chromedriver_mac64/chromedriver', options=options)\n"
     ]
    },
    {
     "name": "stdout",
     "output_type": "stream",
     "text": [
      "(58 sq. m.)\n"
     ]
    }
   ],
   "source": [
    "df = pd.read_csv('urls_t.csv')\n",
    "options = Options()\n",
    "options.headless = True\n",
    "options.add_argument(\"--window-size=1920,1200\")\n",
    "driver = webdriver.Chrome('./chromedriver_mac64/chromedriver', options=options)\n",
    "page = driver.get('https://www.rightmove.co.uk/properties/92010041#/?channel=RES_LET')\n",
    "try:\n",
    "    tag = driver.find_element(By.XPATH,\"//p[contains(@class,'_3vyydJK3KMwn7-s2BEXJAf')]\")\n",
    "except:\n",
    "    print('no hay')\n",
    "# numeros = nums_from_string.get_nums(tag)\n",
    "\n",
    "# precio = round(numeros[0]+numeros[1]/100,2)\n",
    "# precio\n",
    "# print(numeros)\n",
    "print(tag.text)\n",
    "# print(type(tag.text))\n"
   ]
  },
  {
   "cell_type": "code",
   "execution_count": null,
   "metadata": {},
   "outputs": [],
   "source": [
    "def get_addresses():\n",
    "    prop_dict_list = []\n",
    "    \n",
    "    df = pd.read_csv('urls_t.csv')\n",
    "    options = Options()\n",
    "    options.headless = True\n",
    "    options.add_argument(\"--window-size=1920,1200\")\n",
    "    driver = webdriver.Chrome('./chromedriver_mac64/chromedriver', options=options)\n",
    "    j = 0\n",
    "    for i in df['urls']:\n",
    "        prop_dict = {}\n",
    "        print(j)\n",
    "        print(i)\n",
    "        page = driver.get(i)\n",
    "    \n",
    "        for div_props in driver.find_elements(By.CLASS_NAME, \"_4hBezflLdgDMdFtURKTWh\"):\n",
    "            for details in div_props.find_elements(By.CLASS_NAME, \"_3gIoc-NFXILAOZEaEjJi1n\"):                \n",
    "                details2 = details.find_element(By.CLASS_NAME, \"_3ZGPwl2N1mHAJH3cbltyWn\")\n",
    "                datosfinales = details2.find_element(By.CLASS_NAME, \"_3OGW_s5TH6aUqi4uHum5Gy\")\n",
    "                tags = datosfinales.find_elements(By.XPATH, \"p\")\n",
    "                for elem in range(len(tags)):\n",
    "                    prop_dict['Tamanho'] = tags[elem].text\n",
    "                    \n",
    "        datosfinales = driver.find_element(By.CLASS_NAME, \"_3OGW_s5TH6aUqi4uHum5Gy\")\n",
    "        tags = datosfinales.find_elements(By.XPATH, \"p\")\n",
    "        for elem in range(len(tags)):\n",
    "            prop_dict['Tamanho'] = tags[elem].text\n",
    "        \n",
    "        prop_dict['price_per_week'] = driver.find_element(By.XPATH, '//div[contains(@class, \"_3OGW_s5TH6aUqi4uHum5Gy\")]').text\n",
    "        #div_pcm = driver.find_element(By.XPATH, '//div[contains(@class, \"_1gfnqJ3Vtd1z40MlC0MzXu\")]')\n",
    "        #prop_dict['price_per_month'] = div_pcm.find_element(By.TAG_NAME, 'span').text\n",
    "        prop_dict['Price_month'] =  driver.find_element(By.XPATH,\"// div[contains(@class,'_1gfnqJ3Vtd1z40MlC0MzXu')]/span\").text\n",
    "        \n",
    "        prop_dict_list.append(prop_dict)   \n",
    "        time.sleep(1)\n",
    "        if j >= 2:\n",
    "            #pass\n",
    "            break\n",
    "            j = j + 1\n",
    "        \n",
    "    df = pd.DataFrame(prop_dict_list)\n",
    "    #df = df.rename(columns={0: 'addresses'})\n",
    "    print(df)\n",
    "    driver.quit()\n",
    "    return df"
   ]
  },
  {
   "cell_type": "code",
   "execution_count": null,
   "metadata": {},
   "outputs": [],
   "source": []
  },
  {
   "cell_type": "code",
   "execution_count": null,
   "metadata": {},
   "outputs": [],
   "source": []
  },
  {
   "cell_type": "code",
   "execution_count": null,
   "metadata": {},
   "outputs": [],
   "source": []
  },
  {
   "cell_type": "code",
   "execution_count": null,
   "metadata": {},
   "outputs": [],
   "source": []
  },
  {
   "cell_type": "code",
   "execution_count": null,
   "metadata": {},
   "outputs": [],
   "source": []
  },
  {
   "cell_type": "code",
   "execution_count": null,
   "metadata": {},
   "outputs": [],
   "source": [
    "for div_props in driver.find_elements(By.CLASS_NAME, \"_2E1qBJkWUYMJYHfYJzUb_r\"):\n",
    "    for details in div_props.find_elements(By.CLASS_NAME, \"_2RnXSVJcWbWv4IpBC1Sng6\"):\n",
    "        tags = details.find_elements(By.XPATH, \"dt\")\n",
    "        vals = details.find_elements(By.XPATH, \"dd\")\n",
    "        for elem in range(len(tags)):\n",
    "            prop_dict[tags[elem].text] = vals[elem].text"
   ]
  }
 ],
 "metadata": {
  "kernelspec": {
   "display_name": "Python 3 (ipykernel)",
   "language": "python",
   "name": "python3"
  },
  "language_info": {
   "codemirror_mode": {
    "name": "ipython",
    "version": 3
   },
   "file_extension": ".py",
   "mimetype": "text/x-python",
   "name": "python",
   "nbconvert_exporter": "python",
   "pygments_lexer": "ipython3",
   "version": "3.9.13"
  },
  "vscode": {
   "interpreter": {
    "hash": "a1113af81ac0134da3eb882521df24de3cbad007d201fc9dac1e40d0f052bca1"
   }
  }
 },
 "nbformat": 4,
 "nbformat_minor": 2
}
