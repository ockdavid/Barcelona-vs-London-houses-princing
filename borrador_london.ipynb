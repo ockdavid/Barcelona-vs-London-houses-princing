{
 "cells": [
  {
   "cell_type": "code",
   "execution_count": 1,
   "metadata": {},
   "outputs": [],
   "source": [
    "import pandas as pd\n",
    "import nums_from_string"
   ]
  },
  {
   "cell_type": "code",
   "execution_count": 31,
   "metadata": {},
   "outputs": [],
   "source": [
    "from selenium import webdriver\n",
    "from selenium.webdriver.chrome.options import Options\n",
    "from selenium.webdriver.chrome.service import Service\n",
    "from selenium.webdriver.common.by import By\n",
    "import time\n",
    "import nums_from_string\n",
    "\n",
    "#ser = Service(\"./chromedriver_win32/chromedriver\")\n",
    "ser = Service(\"./chromedriver\")\n",
    "\n",
    "options = Options()\n",
    "options.headless = True\n",
    "options.add_argument(\"--window-size=1920,1200\")\n",
    "def get_links():\n",
    "    links = []\n",
    "    driver = webdriver.Chrome(options=options, service=ser)\n",
    "#     driver.get(\"https://www.rightmove.co.uk/property-to-rent/find.html?searchType=RENT&locationIdentifier=REGION%5E87490&insId=1&radius=0.0&minPrice=&maxPrice=&minBedrooms=&maxBedrooms=&displayPropertyType=&maxDaysSinceAdded=&sortByPriceDescending=&_includeLetAgreed=on&primaryDisplayPropertyType=&secondaryDisplayPropertyType=&oldDisplayPropertyType=&oldPrimaryDisplayPropertyType=&letType=&letFurnishType=&houseFlatShare=\")\n",
    "    driver.get(\"https://www.rightmove.co.uk/property-to-rent/find.html?locationIdentifier=REGION%5E87490&sortType=2&propertyTypes=&includeLetAgreed=false&mustHave=&dontShow=&furnishTypes=&keywords=\")\n",
    "    for i in range(1): #cada uno son 25 links, antes era 8\n",
    "        apts_links = driver.find_elements(By.CLASS_NAME, \"propertyCard-details\")\n",
    "        for a in apts_links:\n",
    "            links.append(a.find_element(By.CLASS_NAME, \"propertyCard-link\").get_attribute('href'))\n",
    "        nb = driver.find_element(By.XPATH, \"//button[contains(@class, 'pagination-button pagination-direction pagination-direction--next')]\")\n",
    "        nb.click()\n",
    "        time.sleep(2)\n",
    "    df = pd.DataFrame(links)\n",
    "    df = df.rename(columns={0: 'urls'})\n",
    "    df.to_csv('urls_t.csv')\n",
    "    driver.quit()\n",
    "    print('DOOONEEEE')\n",
    "    return"
   ]
  },
  {
   "cell_type": "code",
   "execution_count": 32,
   "metadata": {},
   "outputs": [
    {
     "name": "stdout",
     "output_type": "stream",
     "text": [
      "DOOONEEEE\n"
     ]
    }
   ],
   "source": [
    "get_links()"
   ]
  },
  {
   "cell_type": "code",
   "execution_count": 6,
   "metadata": {},
   "outputs": [],
   "source": [
    "################################ No usar #######################################\n",
    "def get_addresses():\n",
    "    inicio = time.time()\n",
    "    prop_dict_list = []\n",
    "    \n",
    "    df = pd.read_csv('urls_t.csv')\n",
    "    options = Options()\n",
    "    options.headless = True\n",
    "    options.add_argument(\"--window-size=1920,1200\")\n",
    "    driver = webdriver.Chrome('./chromedriver_mac64/chromedriver', options=options)\n",
    "    for i in df['urls']:\n",
    "        prop_dict = {}\n",
    "        page = driver.get(i)\n",
    "        \n",
    "        try:\n",
    "            tag = driver.find_element(By.XPATH,\"//*[contains(@class,'_3vyydJK3KMwn7-s2BEXJAf')]\")\n",
    "        except:\n",
    "            j=0\n",
    "        else:\n",
    "            prop_dict['Precio/m'] = tag.text\n",
    "            prop_dict_list.append(prop_dict)\n",
    "        time.sleep(1)\n",
    "    df = pd.DataFrame(prop_dict_list)\n",
    "    #df = df.rename(columns={0: 'addresses'})\n",
    "    print(df)\n",
    "    df.to_csv('df_sinmodificacion.csv')\n",
    "    driver.quit()\n",
    "    fin = time.time()\n",
    "    print(fin-inicio)\n",
    "    return df"
   ]
  },
  {
   "cell_type": "code",
   "execution_count": 69,
   "metadata": {},
   "outputs": [],
   "source": [
    "def get_addresses():\n",
    "    inicio = time.time()\n",
    "    prop_dict_list = []\n",
    "    \n",
    "    df = pd.read_csv('urls_t.csv')\n",
    "    options = Options()\n",
    "    options.headless = True\n",
    "    options.add_argument(\"--window-size=1920,1200\")\n",
    "    driver = webdriver.Chrome('./chromedriver_mac64/chromedriver', options=options)\n",
    "    \n",
    "    for i in df['urls']:\n",
    "        prop_dict = {}\n",
    "        page = driver.get(i)\n",
    "        precio_class = driver.find_element(By.CLASS_NAME, '_1gfnqJ3Vtd1z40MlC0MzXu')\n",
    "        precio_span = precio_class.find_element(By.XPATH, 'span')        \n",
    "#         precio_class = driver.find_elements_by_class_name('_5KANqpn5yboC4UXVUxwjZ')\n",
    "#         precio_span = precio_class.find_element_by_xpath(\".//*[@class='_1gfnqJ3Vtd1z40MlC0MzXu']/span[1]\")\n",
    "        precio_str = precio_span.text\n",
    "        precio_str = precio_str.replace(',', '')\n",
    "        precio_pounds = precio_str[1:-3]\n",
    "        hay_precio = 1\n",
    "        try:\n",
    "            precio_euros = float(precio_pounds)*1.14\n",
    "        except:\n",
    "            hay_precio = 0\n",
    "        \n",
    "        try:\n",
    "            tag = driver.find_element(By.XPATH,\"//*[contains(@class,'_3vyydJK3KMwn7-s2BEXJAf')]\")\n",
    "#             tag = driver.find_element_by_xpath(\".//*[@class='_3vyydJK3KMwn7-s2BEXJAf']\")\n",
    "        except:\n",
    "            j=0\n",
    "        else:\n",
    "            print(i)\n",
    "            palabra = tag.text[1:-7]\n",
    "            palabra = palabra.replace(',', '')\n",
    "            sqmeters = float(palabra)\n",
    "            precio_x_metro = precio_euros/sqmeters\n",
    "            prop_dict['precio_pounds'] = precio_pounds\n",
    "            prop_dict['precio_euros'] = precio_euros\n",
    "            prop_dict['tamanho'] = sqmeters\n",
    "            prop_dict['London'] = precio_x_metro\n",
    "            if (hay_precio):\n",
    "                prop_dict_list.append(prop_dict)\n",
    "        time.sleep(1)\n",
    "    df = pd.DataFrame(prop_dict_list)\n",
    "    #df = df.rename(columns={0: 'addresses'})\n",
    "    print(df)\n",
    "    df.to_csv('df_conmodificacion.csv')\n",
    "    driver.quit()\n",
    "    fin = time.time()\n",
    "    print('tiempo:',(fin-inicio)//60,'minutos y',(fin-inicio)%60 ,'segundos')\n",
    "    return df"
   ]
  },
  {
   "cell_type": "code",
   "execution_count": 70,
   "metadata": {
    "scrolled": false
   },
   "outputs": [
    {
     "name": "stderr",
     "output_type": "stream",
     "text": [
      "C:\\Users\\ockda\\AppData\\Local\\Temp\\ipykernel_13944\\553563475.py:9: DeprecationWarning: executable_path has been deprecated, please pass in a Service object\n",
      "  driver = webdriver.Chrome('./chromedriver_mac64/chromedriver', options=options)\n"
     ]
    },
    {
     "name": "stdout",
     "output_type": "stream",
     "text": [
      "https://www.rightmove.co.uk/properties/125484956#/?channel=RES_LET\n",
      "https://www.rightmove.co.uk/properties/113796251#/?channel=RES_LET\n",
      "https://www.rightmove.co.uk/properties/85527663#/?channel=RES_LET\n",
      "https://www.rightmove.co.uk/properties/120069455#/?channel=RES_LET\n",
      "https://www.rightmove.co.uk/properties/127755986#/?channel=RES_LET\n",
      "https://www.rightmove.co.uk/properties/93971069#/?channel=RES_LET\n",
      "https://www.rightmove.co.uk/properties/85544892#/?channel=RES_LET\n",
      "  precio_pounds  precio_euros  tamanho      London\n",
      "0       346667      395200.38    883.0  447.565549\n",
      "1       108333      123499.62    450.0  274.443600\n",
      "2       108333      123499.62    625.0  197.599392\n",
      "3       108333      123499.62    419.0  294.748496\n",
      "4       104000      118560.00    983.0  120.610376\n",
      "5        95333      108679.62   1353.0   80.324922\n",
      "tiempo: 1.0 minutos y 0.16562509536743164 segundos\n"
     ]
    },
    {
     "data": {
      "text/html": [
       "<div>\n",
       "<style scoped>\n",
       "    .dataframe tbody tr th:only-of-type {\n",
       "        vertical-align: middle;\n",
       "    }\n",
       "\n",
       "    .dataframe tbody tr th {\n",
       "        vertical-align: top;\n",
       "    }\n",
       "\n",
       "    .dataframe thead th {\n",
       "        text-align: right;\n",
       "    }\n",
       "</style>\n",
       "<table border=\"1\" class=\"dataframe\">\n",
       "  <thead>\n",
       "    <tr style=\"text-align: right;\">\n",
       "      <th></th>\n",
       "      <th>precio_pounds</th>\n",
       "      <th>precio_euros</th>\n",
       "      <th>tamanho</th>\n",
       "      <th>London</th>\n",
       "    </tr>\n",
       "  </thead>\n",
       "  <tbody>\n",
       "    <tr>\n",
       "      <th>0</th>\n",
       "      <td>346667</td>\n",
       "      <td>395200.38</td>\n",
       "      <td>883.0</td>\n",
       "      <td>447.565549</td>\n",
       "    </tr>\n",
       "    <tr>\n",
       "      <th>1</th>\n",
       "      <td>108333</td>\n",
       "      <td>123499.62</td>\n",
       "      <td>450.0</td>\n",
       "      <td>274.443600</td>\n",
       "    </tr>\n",
       "    <tr>\n",
       "      <th>2</th>\n",
       "      <td>108333</td>\n",
       "      <td>123499.62</td>\n",
       "      <td>625.0</td>\n",
       "      <td>197.599392</td>\n",
       "    </tr>\n",
       "    <tr>\n",
       "      <th>3</th>\n",
       "      <td>108333</td>\n",
       "      <td>123499.62</td>\n",
       "      <td>419.0</td>\n",
       "      <td>294.748496</td>\n",
       "    </tr>\n",
       "    <tr>\n",
       "      <th>4</th>\n",
       "      <td>104000</td>\n",
       "      <td>118560.00</td>\n",
       "      <td>983.0</td>\n",
       "      <td>120.610376</td>\n",
       "    </tr>\n",
       "    <tr>\n",
       "      <th>5</th>\n",
       "      <td>95333</td>\n",
       "      <td>108679.62</td>\n",
       "      <td>1353.0</td>\n",
       "      <td>80.324922</td>\n",
       "    </tr>\n",
       "  </tbody>\n",
       "</table>\n",
       "</div>"
      ],
      "text/plain": [
       "  precio_pounds  precio_euros  tamanho      London\n",
       "0       346667      395200.38    883.0  447.565549\n",
       "1       108333      123499.62    450.0  274.443600\n",
       "2       108333      123499.62    625.0  197.599392\n",
       "3       108333      123499.62    419.0  294.748496\n",
       "4       104000      118560.00    983.0  120.610376\n",
       "5        95333      108679.62   1353.0   80.324922"
      ]
     },
     "execution_count": 70,
     "metadata": {},
     "output_type": "execute_result"
    }
   ],
   "source": [
    "# df_london = get_addresses()\n",
    "# df_london\n",
    "get_addresses()"
   ]
  },
  {
   "cell_type": "code",
   "execution_count": null,
   "metadata": {},
   "outputs": [],
   "source": []
  },
  {
   "cell_type": "code",
   "execution_count": null,
   "metadata": {},
   "outputs": [],
   "source": []
  },
  {
   "cell_type": "code",
   "execution_count": 36,
   "metadata": {},
   "outputs": [
    {
     "name": "stderr",
     "output_type": "stream",
     "text": [
      "C:\\Users\\ockda\\AppData\\Local\\Temp\\ipykernel_13944\\341140591.py:5: DeprecationWarning: executable_path has been deprecated, please pass in a Service object\n",
      "  driver = webdriver.Chrome('./chromedriver_mac64/chromedriver', options=options)\n"
     ]
    },
    {
     "name": "stdout",
     "output_type": "stream",
     "text": [
      "395200.37999999995\n",
      "346667 \n",
      "<class 'float'>\n"
     ]
    }
   ],
   "source": [
    "df = pd.read_csv('urls_t.csv')\n",
    "options = Options()\n",
    "options.headless = True\n",
    "options.add_argument(\"--window-size=1920,1200\")\n",
    "driver = webdriver.Chrome('./chromedriver_mac64/chromedriver', options=options)\n",
    "page = driver.get('https://www.rightmove.co.uk/properties/125484956#/?channel=RES_LET')\n",
    "\n",
    "precio_class = driver.find_element(By.CLASS_NAME, '_1gfnqJ3Vtd1z40MlC0MzXu')\n",
    "precio_str = precio_class.find_element(By.XPATH, 'span')\n",
    "precio_str = precio_str.text\n",
    "precio_str = precio_str.replace(',', '')\n",
    "precio_pounds = precio_str[1:-3]\n",
    "precio_euros = float(precio_pounds)*1.14\n",
    "\n",
    "print(precio_euros)\n",
    "print(precio_pounds)\n",
    "print(type(precio_euros))\n",
    "\n"
   ]
  },
  {
   "cell_type": "code",
   "execution_count": 138,
   "metadata": {},
   "outputs": [
    {
     "data": {
      "text/plain": [
       "58.0"
      ]
     },
     "execution_count": 138,
     "metadata": {},
     "output_type": "execute_result"
    }
   ],
   "source": [
    "palabra = tag.text[1:-7]\n",
    "num = float(palabra)\n",
    "num"
   ]
  },
  {
   "cell_type": "code",
   "execution_count": null,
   "metadata": {},
   "outputs": [],
   "source": []
  },
  {
   "cell_type": "code",
   "execution_count": null,
   "metadata": {},
   "outputs": [],
   "source": []
  },
  {
   "cell_type": "code",
   "execution_count": null,
   "metadata": {},
   "outputs": [],
   "source": []
  },
  {
   "cell_type": "code",
   "execution_count": null,
   "metadata": {},
   "outputs": [],
   "source": []
  },
  {
   "cell_type": "code",
   "execution_count": null,
   "metadata": {},
   "outputs": [],
   "source": []
  }
 ],
 "metadata": {
  "kernelspec": {
   "display_name": "Python 3 (ipykernel)",
   "language": "python",
   "name": "python3"
  },
  "language_info": {
   "codemirror_mode": {
    "name": "ipython",
    "version": 3
   },
   "file_extension": ".py",
   "mimetype": "text/x-python",
   "name": "python",
   "nbconvert_exporter": "python",
   "pygments_lexer": "ipython3",
   "version": "3.9.13"
  },
  "vscode": {
   "interpreter": {
    "hash": "a1113af81ac0134da3eb882521df24de3cbad007d201fc9dac1e40d0f052bca1"
   }
  }
 },
 "nbformat": 4,
 "nbformat_minor": 2
}
