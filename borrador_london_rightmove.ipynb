{
 "cells": [
  {
   "cell_type": "code",
   "execution_count": 2,
   "metadata": {},
   "outputs": [],
   "source": [
    "import pandas as pd\n",
    "import nums_from_string"
   ]
  },
  {
   "cell_type": "code",
   "execution_count": 72,
   "metadata": {},
   "outputs": [],
   "source": [
    "from selenium import webdriver\n",
    "from selenium.webdriver.chrome.options import Options\n",
    "from selenium.webdriver.chrome.service import Service\n",
    "from selenium.webdriver.common.by import By\n",
    "import time\n",
    "import nums_from_string\n",
    "\n",
    "#ser = Service(\"./chromedriver_win32/chromedriver\")\n",
    "ser = Service(\"./chromedriver\")\n",
    "\n",
    "options = Options()\n",
    "options.headless = True\n",
    "options.add_argument(\"--window-size=1920,1200\")\n",
    "def get_links():\n",
    "    links = []\n",
    "    driver = webdriver.Chrome(options=options, service=ser)\n",
    "    driver.get(\"https://www.rightmove.co.uk/property-to-rent/find.html?searchType=RENT&locationIdentifier=REGION%5E87490&insId=1&radius=0.0&minPrice=&maxPrice=&minBedrooms=&maxBedrooms=&displayPropertyType=&maxDaysSinceAdded=&sortByPriceDescending=&_includeLetAgreed=on&primaryDisplayPropertyType=&secondaryDisplayPropertyType=&oldDisplayPropertyType=&oldPrimaryDisplayPropertyType=&letType=&letFurnishType=&houseFlatShare=\")\n",
    "    for i in range(8): #cada uno son 25 links, antes era 8\n",
    "        apts_links = driver.find_elements(By.CLASS_NAME, \"propertyCard-details\")\n",
    "        for a in apts_links:\n",
    "            links.append(a.find_element(By.CLASS_NAME, \"propertyCard-link\").get_attribute('href'))\n",
    "        nb = driver.find_element(By.XPATH, \"//button[contains(@class, 'pagination-button pagination-direction pagination-direction--next')]\")\n",
    "        nb.click()\n",
    "        time.sleep(2)\n",
    "    df = pd.DataFrame(links)\n",
    "    df = df.rename(columns={0: 'urls'})\n",
    "    df.to_csv('urls_t.csv')\n",
    "    driver.quit()\n",
    "    print('DOOONEEEE')\n",
    "    return"
   ]
  },
  {
   "cell_type": "code",
   "execution_count": 73,
   "metadata": {},
   "outputs": [
    {
     "name": "stdout",
     "output_type": "stream",
     "text": [
      "DOOONEEEE\n"
     ]
    }
   ],
   "source": [
    "get_links()"
   ]
  },
  {
   "cell_type": "code",
   "execution_count": 6,
   "metadata": {},
   "outputs": [],
   "source": [
    "################################ No usar #######################################\n",
    "def get_addresses():\n",
    "    inicio = time.time()\n",
    "    prop_dict_list = []\n",
    "    \n",
    "    df = pd.read_csv('urls_t.csv')\n",
    "    options = Options()\n",
    "    options.headless = True\n",
    "    options.add_argument(\"--window-size=1920,1200\")\n",
    "    driver = webdriver.Chrome('./chromedriver_mac64/chromedriver', options=options)\n",
    "    for i in df['urls']:\n",
    "        prop_dict = {}\n",
    "        page = driver.get(i)\n",
    "        \n",
    "        try:\n",
    "            tag = driver.find_element(By.XPATH,\"//*[contains(@class,'_3vyydJK3KMwn7-s2BEXJAf')]\")\n",
    "        except:\n",
    "            j=0\n",
    "        else:\n",
    "            prop_dict['Precio/m'] = tag.text\n",
    "            prop_dict_list.append(prop_dict)\n",
    "        time.sleep(1)\n",
    "    df = pd.DataFrame(prop_dict_list)\n",
    "    #df = df.rename(columns={0: 'addresses'})\n",
    "    print(df)\n",
    "    df.to_csv('df_sinmodificacion.csv')\n",
    "    driver.quit()\n",
    "    fin = time.time()\n",
    "    print(fin-inicio)\n",
    "    return df"
   ]
  },
  {
   "cell_type": "code",
   "execution_count": 74,
   "metadata": {},
   "outputs": [],
   "source": [
    "def get_addresses():\n",
    "    inicio = time.time()\n",
    "    prop_dict_list = []\n",
    "    \n",
    "    df = pd.read_csv('urls_t.csv')\n",
    "    options = Options()\n",
    "    options.headless = True\n",
    "    options.add_argument(\"--window-size=1920,1200\")\n",
    "    driver = webdriver.Chrome('./chromedriver_mac64/chromedriver', options=options)\n",
    "    \n",
    "    for i in df['urls']:\n",
    "        prop_dict = {}\n",
    "        page = driver.get(i)\n",
    "        precio_class = driver.find_element(By.CLASS_NAME, '_1gfnqJ3Vtd1z40MlC0MzXu')\n",
    "        precio_span = precio_class.find_element(By.XPATH, 'span')        \n",
    "#         precio_class = driver.find_elements_by_class_name('_5KANqpn5yboC4UXVUxwjZ')\n",
    "#         precio_span = precio_class.find_element_by_xpath(\".//*[@class='_1gfnqJ3Vtd1z40MlC0MzXu']/span[1]\")\n",
    "        precio_str = precio_span.text\n",
    "        precio_str = precio_str.replace(',', '')\n",
    "        precio_pounds = precio_str[1:-3]\n",
    "        hay_precio = 1\n",
    "        try:\n",
    "            precio_euros = float(precio_pounds)*1.14\n",
    "        except:\n",
    "            hay_precio = 0\n",
    "        try:\n",
    "            tag = driver.find_element(By.XPATH,\"//*[contains(@class,'_3vyydJK3KMwn7-s2BEXJAf')]\")\n",
    "#             tag = driver.find_element_by_xpath(\".//*[@class='_3vyydJK3KMwn7-s2BEXJAf']\")\n",
    "        except:\n",
    "            j=0\n",
    "        else:\n",
    "#             print(i)\n",
    "            palabra = tag.text[1:-7]\n",
    "            palabra = palabra.replace(',', '')\n",
    "            sqmeters = float(palabra)\n",
    "            precio_x_metro = precio_euros/sqmeters\n",
    "#             prop_dict['precio_pounds'] = precio_pounds\n",
    "#             prop_dict['precio_euros'] = precio_euros\n",
    "#             prop_dict['tamanho'] = sqmeters\n",
    "            prop_dict['London'] = precio_x_metro\n",
    "            if (hay_precio):\n",
    "                prop_dict_list.append(prop_dict)\n",
    "        time.sleep(1)\n",
    "    df = pd.DataFrame(prop_dict_list)\n",
    "    #df = df.rename(columns={0: 'addresses'})\n",
    "    print(df)\n",
    "    df.to_csv('df_conmodificacion.csv')\n",
    "    driver.quit()\n",
    "    fin = time.time()\n",
    "    print('tiempo:',(fin-inicio)//60,'minutos y',(fin-inicio)%60 ,'segundos')\n",
    "    return df"
   ]
  },
  {
   "cell_type": "code",
   "execution_count": 5,
   "metadata": {
    "scrolled": false
   },
   "outputs": [
    {
     "ename": "NameError",
     "evalue": "name 'get_addresses' is not defined",
     "output_type": "error",
     "traceback": [
      "\u001b[1;31m---------------------------------------------------------------------------\u001b[0m",
      "\u001b[1;31mNameError\u001b[0m                                 Traceback (most recent call last)",
      "\u001b[1;32m~\\AppData\\Local\\Temp\\ipykernel_16864\\2172852475.py\u001b[0m in \u001b[0;36m<module>\u001b[1;34m\u001b[0m\n\u001b[1;32m----> 1\u001b[1;33m \u001b[0mdf_london\u001b[0m \u001b[1;33m=\u001b[0m \u001b[0mget_addresses\u001b[0m\u001b[1;33m(\u001b[0m\u001b[1;33m)\u001b[0m\u001b[1;33m\u001b[0m\u001b[1;33m\u001b[0m\u001b[0m\n\u001b[0m\u001b[0;32m      2\u001b[0m \u001b[1;31m# df_london\u001b[0m\u001b[1;33m\u001b[0m\u001b[1;33m\u001b[0m\u001b[0m\n\u001b[0;32m      3\u001b[0m \u001b[1;31m# get_addresses()\u001b[0m\u001b[1;33m\u001b[0m\u001b[1;33m\u001b[0m\u001b[0m\n",
      "\u001b[1;31mNameError\u001b[0m: name 'get_addresses' is not defined"
     ]
    }
   ],
   "source": [
    "df_london = get_addresses()\n",
    "# df_london\n",
    "# get_addresses()"
   ]
  },
  {
   "cell_type": "code",
   "execution_count": 77,
   "metadata": {},
   "outputs": [
    {
     "data": {
      "text/plain": [
       "50.139100058990394"
      ]
     },
     "execution_count": 77,
     "metadata": {},
     "output_type": "execute_result"
    }
   ],
   "source": [
    "df_london.London.mean()"
   ]
  },
  {
   "cell_type": "code",
   "execution_count": null,
   "metadata": {},
   "outputs": [],
   "source": []
  },
  {
   "cell_type": "code",
   "execution_count": 15,
   "metadata": {},
   "outputs": [
    {
     "name": "stderr",
     "output_type": "stream",
     "text": [
      "C:\\Users\\ockda\\AppData\\Local\\Temp\\ipykernel_16864\\1965947623.py:12: DeprecationWarning: executable_path has been deprecated, please pass in a Service object\n",
      "  driver = webdriver.Chrome('./chromedriver_mac64/chromedriver', options=options)\n"
     ]
    },
    {
     "name": "stdout",
     "output_type": "stream",
     "text": [
      "(50-52 sq. m.)\n",
      "50-52 \n",
      "50-52 \n",
      "6\n",
      "52 \n",
      "52.0\n"
     ]
    }
   ],
   "source": [
    "from selenium import webdriver\n",
    "from selenium.webdriver.chrome.options import Options\n",
    "from selenium.webdriver.chrome.service import Service\n",
    "from selenium.webdriver.common.by import By\n",
    "import time\n",
    "import nums_from_string\n",
    "\n",
    "\n",
    "options = Options()\n",
    "options.headless = True\n",
    "options.add_argument(\"--window-size=1920,1200\")\n",
    "driver = webdriver.Chrome('./chromedriver_mac64/chromedriver', options=options)\n",
    "page = driver.get('https://www.rightmove.co.uk/properties/130833236#/?channel=RES_LET')\n",
    "\n",
    "precio_class = driver.find_element(By.CLASS_NAME, '_1gfnqJ3Vtd1z40MlC0MzXu')\n",
    "precio_str = precio_class.find_element(By.XPATH, 'span')\n",
    "precio_str = precio_str.text\n",
    "precio_str = precio_str.replace(',', '')\n",
    "precio_pounds = precio_str[1:-3]\n",
    "precio_euros = float(precio_pounds)*1.14\n",
    "\n",
    "tag = driver.find_element(By.XPATH,\"//*[contains(@class,'_3vyydJK3KMwn7-s2BEXJAf')]\")\n",
    "print(tag.text)\n",
    "palabra = tag.text[1:-7]\n",
    "print(palabra)\n",
    "palabra = palabra.replace(',', '')\n",
    "print(palabra)\n",
    "print(len(palabra))\n",
    "if (len(palabra)>=5):\n",
    "    sep = palabra.split(\"-\")\n",
    "    palabra = sep[1]\n",
    "print(palabra)\n",
    "sqmeters = float(palabra)\n",
    "print(sqmeters)\n",
    "        \n",
    "# print(precio_euros)\n",
    "# print(precio_pounds)\n",
    "# print(type(precio_euros))"
   ]
  },
  {
   "cell_type": "code",
   "execution_count": 12,
   "metadata": {},
   "outputs": [
    {
     "name": "stderr",
     "output_type": "stream",
     "text": [
      "C:\\Users\\ockda\\AppData\\Local\\Temp\\ipykernel_16864\\636102727.py:12: DeprecationWarning: executable_path has been deprecated, please pass in a Service object\n",
      "  driver = webdriver.Chrome('./chromedriver_mac64/chromedriver', options=options)\n"
     ]
    },
    {
     "name": "stdout",
     "output_type": "stream",
     "text": [
      "(76 sq. m.)\n",
      "76 \n",
      "76 \n",
      "3\n",
      "76.0\n"
     ]
    }
   ],
   "source": [
    "from selenium import webdriver\n",
    "from selenium.webdriver.chrome.options import Options\n",
    "from selenium.webdriver.chrome.service import Service\n",
    "from selenium.webdriver.common.by import By\n",
    "import time\n",
    "import nums_from_string\n",
    "\n",
    "\n",
    "options = Options()\n",
    "options.headless = True\n",
    "options.add_argument(\"--window-size=1920,1200\")\n",
    "driver = webdriver.Chrome('./chromedriver_mac64/chromedriver', options=options)\n",
    "page = driver.get('https://www.rightmove.co.uk/properties/130452107#/?channel=RES_LET')\n",
    "\n",
    "precio_class = driver.find_element(By.CLASS_NAME, '_1gfnqJ3Vtd1z40MlC0MzXu')\n",
    "precio_str = precio_class.find_element(By.XPATH, 'span')\n",
    "precio_str = precio_str.text\n",
    "precio_str = precio_str.replace(',', '')\n",
    "precio_pounds = precio_str[1:-3]\n",
    "precio_euros = float(precio_pounds)*1.14\n",
    "\n",
    "tag = driver.find_element(By.XPATH,\"//*[contains(@class,'_3vyydJK3KMwn7-s2BEXJAf')]\")\n",
    "print(tag.text)\n",
    "palabra = tag.text[1:-7]\n",
    "print(palabra)\n",
    "palabra = palabra.replace(',', '')\n",
    "print(palabra)\n",
    "print(len(palabra))\n",
    "sqmeters = float(palabra)\n",
    "print(sqmeters)\n",
    "        \n",
    "# print(precio_euros)\n",
    "# print(precio_pounds)\n",
    "# print(type(precio_euros))"
   ]
  },
  {
   "cell_type": "code",
   "execution_count": null,
   "metadata": {},
   "outputs": [],
   "source": []
  },
  {
   "cell_type": "code",
   "execution_count": null,
   "metadata": {},
   "outputs": [],
   "source": []
  },
  {
   "cell_type": "code",
   "execution_count": null,
   "metadata": {},
   "outputs": [],
   "source": []
  },
  {
   "cell_type": "code",
   "execution_count": null,
   "metadata": {},
   "outputs": [],
   "source": []
  }
 ],
 "metadata": {
  "kernelspec": {
   "display_name": "Python 3 (ipykernel)",
   "language": "python",
   "name": "python3"
  },
  "language_info": {
   "codemirror_mode": {
    "name": "ipython",
    "version": 3
   },
   "file_extension": ".py",
   "mimetype": "text/x-python",
   "name": "python",
   "nbconvert_exporter": "python",
   "pygments_lexer": "ipython3",
   "version": "3.9.13"
  },
  "vscode": {
   "interpreter": {
    "hash": "a1113af81ac0134da3eb882521df24de3cbad007d201fc9dac1e40d0f052bca1"
   }
  }
 },
 "nbformat": 4,
 "nbformat_minor": 2
}
